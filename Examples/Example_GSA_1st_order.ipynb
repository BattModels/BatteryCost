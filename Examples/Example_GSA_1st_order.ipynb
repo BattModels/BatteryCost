{
 "cells": [
  {
   "cell_type": "markdown",
   "metadata": {},
   "source": [
    "First order GSA assesses cost by considering only one factor at a time. Sobol method has been implemented to conduct GSA. It's a variance based sensitivity analysis. Greater the sobol index, greater it's contribution is towards the varince in cost. It's value is always between 0 and 1. Sobol indices can be defined as the ratio of partial variance to the total variance of cost.\n",
    "\n",
    "In this example, we will study the sensitivity of cell cost to factors such as positive electrode thickness, positive electrode thickness,  negative electrode thickness, number of cells manufactured, positive active material cost, etc."
   ]
  },
  {
   "cell_type": "code",
   "execution_count": 1,
   "metadata": {},
   "outputs": [
    {
     "name": "stdout",
     "output_type": "stream",
     "text": [
      "\n"
     ]
    },
    {
     "data": {
      "image/png": "[encoded data removed]",
      "text/plain": [
       "Figure(PyObject <Figure size 640x480 with 1 Axes>)"
      ]
     },
     "metadata": {},
     "output_type": "display_data"
    },
    {
     "name": "stdout",
     "output_type": "stream",
     "text": [
      "[0.2819593544809477, 0.44626806500819094, 0.15564280580965795, 0.08144501574096936, 0.03640269938314214]"
     ]
    },
    {
     "data": {
      "text/plain": [
       "Figure(PyObject <Figure size 640x480 with 0 Axes>)"
      ]
     },
     "execution_count": 1,
     "metadata": {},
     "output_type": "execute_result"
    }
   ],
   "source": [
    "include(\"../src/PBCM.jl\")\n",
    "\n",
    "cell_general = cell()\n",
    "cell_design_op = cylindrical_cell_designer(cell_general)\n",
    "cost = cost_default()\n",
    "cell_general, cost = convert_all(cell_general, cost, mult)\n",
    "\n",
    "using PyPlot\n",
    "using DiffEqSensitivity\n",
    "\n",
    "per = 10\n",
    "\n",
    "poro = 0.35\n",
    "poro_intrvl = [poro*(1 - (per/100)) , poro*(1 + (per/100))]\n",
    "\n",
    "pos_thic = 150\n",
    "pos_thic_intrvl = [pos_thic*(1 - (per/100)) , pos_thic*(1 + (per/100))]\n",
    "\n",
    "neg_thic = 150\n",
    "neg_thic_intrvl = [neg_thic*(1 - (per/100)) , neg_thic*(1 + (per/100))]\n",
    "\n",
    "no_cells_yr = 10\n",
    "no_cells_yr_intrvl = [no_cells_yr*(1 - (per/100)) , no_cells_yr*(1 + (per/100))]\n",
    "\n",
    "cost_pos_AM = 25\n",
    "cost_pos_AM_intrvl = [cost_pos_AM*(1 - (per/100)) , cost_pos_AM*(1 + (per/100))]\n",
    "\n",
    "\n",
    "function gsa_cost(arr)\n",
    "\n",
    "    cell_general.cathode.por        = arr[1]\n",
    "    cell_general.cathode.th         = converter(arr[2], mult.pos_th)\n",
    "    cell_general.anode.th           = converter(arr[3], mult.neg_th)\n",
    "    cost.general_costs.no_units_mfg = converter(arr[4], mult.units_mfg)\n",
    "    cost.cell_costs.cathode.AM[1]   = arr[5]\n",
    "\n",
    "    dollars_kWh = cost_calc(cell_general, cost, system=\"Cell\", cost_verbosity=0)[1]\n",
    "\n",
    "    return dollars_kWh\n",
    "end\n",
    "\n",
    "# gsa_cost([0.25, 150.0, 130.0, 25.0, 19.0])\n",
    "\n",
    "gsa_result = gsa(gsa_cost, Sobol(), [poro_intrvl, pos_thic_intrvl, neg_thic_intrvl, no_cells_yr_intrvl, cost_pos_AM_intrvl], N = 10000)\n",
    "\n",
    "\n",
    "print(\"\\n\")\n",
    "S1 = gsa_result.S1\n",
    "print(S1)\n",
    "clf()\n",
    "x = [\"Pos Porosity\", \"Pos Th\", \"Neg Th\", \"Cells MFG\", \"Pos AM Cost\"]\n",
    "bar(x, S1, color=\"#0f87bf\", align=\"center\", alpha=0.8)\n",
    "ylabel(\"Sobol Indices\")\n",
    "\n",
    "title(string(\"GSA: 1st Order : \", per, \" %\"))\n",
    "figure(2)\n"
   ]
  },
  {
   "cell_type": "markdown",
   "metadata": {},
   "source": [
    "As shown in the figure above, the positive electrode thickness has the largest sobel index, followed by the positive electrode porosity, followed by the negative electrode thickness, followed by the production quantity, and finally the positive electrode material cost. This reflects the impact of model parameters on cell cost."
   ]
  }
 ],
 "metadata": {
  "kernelspec": {
   "display_name": "Julia 1.4.2",
   "language": "julia",
   "name": "julia-1.4"
  },
  "language_info": {
   "file_extension": ".jl",
   "mimetype": "application/julia",
   "name": "julia",
   "version": "1.4.2"
  }
 },
 "nbformat": 4,
 "nbformat_minor": 4
}
